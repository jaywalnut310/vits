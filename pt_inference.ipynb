{
 "cells": [
  {
   "cell_type": "code",
   "execution_count": null,
   "metadata": {
    "collapsed": false,
    "jupyter": {
     "outputs_hidden": false
    },
    "pycharm": {
     "name": "#%%\n"
    }
   },
   "outputs": [],
   "source": [
    "import torch\n",
    "\n",
    "import IPython.display as ipd\n",
    "from craft_vits import get_text\n",
    "\n",
    "from hparams import get_hparams_from_file\n",
    "from text.cleaner import japanese_cleaner"
   ]
  },
  {
   "cell_type": "code",
   "execution_count": null,
   "metadata": {
    "collapsed": false,
    "jupyter": {
     "outputs_hidden": false
    },
    "pycharm": {
     "name": "#%%\n"
    }
   },
   "outputs": [],
   "source": [
    "hps = get_hparams_from_file(\"./configs/ljs_base.json\")\n",
    "model = torch.jit.load('./net_g.pt')"
   ]
  },
  {
   "cell_type": "code",
   "execution_count": 7,
   "metadata": {
    "collapsed": false,
    "jupyter": {
     "outputs_hidden": false
    },
    "pycharm": {
     "name": "#%%\n"
    }
   },
   "outputs": [],
   "source": [
    "torch.set_grad_enabled(False)\n",
    "longtext = \"どうしてこうなるんだろう。初めて、好きな人が出来た。一生ものの友だちができた。嬉しいことが二つ重なって。その二つの嬉しさが、また、たくさんの嬉しさを連れてきてくれて。夢のように幸せな時間を手に入れたはずなのに…なのに、どうして、こうなっちゃうんだろう。\"\n",
    "\n",
    "stn_tst = get_text(japanese_cleaner(longtext), hps)\n",
    "x = stn_tst.unsqueeze(0)\n",
    "x_lengths = torch.LongTensor([stn_tst.size(0)])"
   ]
  },
  {
   "cell_type": "code",
   "execution_count": null,
   "metadata": {
    "pycharm": {
     "name": "#%%\n"
    }
   },
   "outputs": [],
   "source": [
    "audio = model(x, x_lengths)[0][0,0].data.float().numpy()\n",
    "ipd.display(ipd.Audio(audio, rate=hps.data.sampling_rate))"
   ]
  }
 ],
 "metadata": {
  "kernelspec": {
   "display_name": "Python 3.8.10 64-bit (system)",
   "language": "python",
   "name": "python3"
  },
  "language_info": {
   "codemirror_mode": {
    "name": "ipython",
    "version": 3
   },
   "file_extension": ".py",
   "mimetype": "text/x-python",
   "name": "python",
   "nbconvert_exporter": "python",
   "pygments_lexer": "ipython3",
   "version": "3.8.10"
  },
  "vscode": {
   "interpreter": {
    "hash": "781dbd0f7c1d4d754296d38bb44a2fe62ce2e43c8bf7f7c9bc081b57263152c0"
   }
  }
 },
 "nbformat": 4,
 "nbformat_minor": 4
}

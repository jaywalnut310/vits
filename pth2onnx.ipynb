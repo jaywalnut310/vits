{
 "cells": [
  {
   "cell_type": "code",
   "execution_count": null,
   "metadata": {
    "collapsed": false,
    "pycharm": {
     "name": "#%%\n"
    }
   },
   "outputs": [],
   "source": [
    "import torch\n",
    "import torch.onnx\n",
    "import commons\n",
    "\n",
    "from load_checkpoint import load_checkpoint\n",
    "from hparams import get_hparams_from_file\n",
    "from models import SynthesizerInf\n",
    "from text.symbols import symbols\n",
    "from text.cleaners import japanese_phrase_cleaners\n",
    "from text import cleaned_text_to_sequence"
   ]
  },
  {
   "cell_type": "code",
   "execution_count": null,
   "metadata": {
    "collapsed": false,
    "pycharm": {
     "name": "#%%\n"
    }
   },
   "outputs": [],
   "source": [
    "hps = get_hparams_from_file(\"./configs/ljs_base.json\")\n",
    "\n",
    "net_g = SynthesizerInf(\n",
    "    len(symbols),\n",
    "    hps.data.filter_length // 2 + 1,\n",
    "    hps.train.segment_size // hps.data.hop_length,\n",
    "    **hps.model)\n",
    "_ = net_g.eval()\n",
    "\n",
    "_ = load_checkpoint(\"./logs/ljs_base/G_119000.pth\", net_g, None)"
   ]
  },
  {
   "cell_type": "code",
   "execution_count": null,
   "metadata": {
    "collapsed": false,
    "pycharm": {
     "name": "#%%\n"
    }
   },
   "outputs": [],
   "source": [
    "torch.set_grad_enabled(False)\n",
    "longtext = \"どうしてこうなるんだろう。初めて、好きな人が出来た。一生ものの友だちができた。嬉しいことが二つ重なって。その二つの嬉しさが、また、たくさんの嬉しさを連れてきてくれて。夢のように幸せな時間を手に入れたはずなのに…なのに、どうして、こうなっちゃうんだろう。　どうしてこうなるんだろう。初めて、好きな人が出来た。一生ものの友だちができた。嬉しいことが二つ重なって。その二つの嬉しさが、また、たくさんの嬉しさを連れてきてくれて。夢のように幸せな時間を手に入れたはずなのに…なのに、どうして、こうなっちゃうんだろう。 えっとね……。管理人の司令官でしょ？　あとは……　レッドバロン、夜の貴公子読むだけでも恥ずかしいな。　それにエデンの女王と、ハリーって人たちが常連。　えっとね……。管理人の司令官でしょ？　あとは……　レッドバロン、夜の貴公子読むだけでも恥ずかしいな。　それにエデンの女王と、ハリーって人たちが常連。　このエデンの女王？　もさ、なんか怪しいって　思っただけで、みゃーこ先輩みたいにアニメには　ないこと書いてるってわかんなかったし。　ちゅっ、ちゅっ、じゅるるっ、全部、んぁ、んっ、　口に、んんっ、全部、飲む、からぁっ、　お兄ちゃんの、ちょうだい、ちょうだぁい……っ。　んくっ、んっ、じゅるっ、んん、んっ、ちゅっ、ちゅるっ、　んん、ちゅるっ、じゅるるるっ、じゅるっ、　ん、ん、んっ、んんッ！\"\n",
    "\n",
    "def get_text(text, hps):\n",
    "    text_norm = cleaned_text_to_sequence(text)\n",
    "    if hps.data.add_blank:\n",
    "        text_norm = commons.intersperse(text_norm, 0)\n",
    "    text_norm = torch.LongTensor(text_norm)\n",
    "    return text_norm\n",
    "\n",
    "stn_tst = get_text(japanese_phrase_cleaners(longtext), hps)\n",
    "x = stn_tst.unsqueeze(0)\n",
    "x_lengths = torch.LongTensor([stn_tst.size(0)])\n",
    "\n",
    "torch.onnx.export(net_g, (x, x_lengths), \"net_g.onnx\", export_params=True, opset_version=16,\n",
    "    do_constant_folding=True, input_names = ['modelInput'], output_names = ['modelOutput'],\n",
    "    dynamic_axes={'modelInput' : {0 : 'batch_size'}, 'modelOutput' : {0 : 'batch_size'}}) "
   ]
  }
 ],
 "metadata": {
  "kernelspec": {
   "display_name": "Python 3.8.10 64-bit (system)",
   "language": "python",
   "name": "python3"
  },
  "language_info": {
   "codemirror_mode": {
    "name": "ipython",
    "version": 3
   },
   "file_extension": ".py",
   "mimetype": "text/x-python",
   "name": "python",
   "nbconvert_exporter": "python",
   "pygments_lexer": "ipython3",
   "version": "3.8.10"
  },
  "vscode": {
   "interpreter": {
    "hash": "781dbd0f7c1d4d754296d38bb44a2fe62ce2e43c8bf7f7c9bc081b57263152c0"
   }
  }
 },
 "nbformat": 4,
 "nbformat_minor": 4
}

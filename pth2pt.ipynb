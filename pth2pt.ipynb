{
 "cells": [
  {
   "cell_type": "code",
   "execution_count": null,
   "metadata": {
    "pycharm": {
     "name": "#%%\n"
    }
   },
   "outputs": [],
   "source": [
    "import torch\n",
    "import utils\n",
    "from models import SynthesizerInf\n",
    "from text.symbols import symbols"
   ]
  },
  {
   "cell_type": "code",
   "execution_count": null,
   "metadata": {
    "pycharm": {
     "name": "#%%\n"
    }
   },
   "outputs": [],
   "source": [
    "hps = utils.get_hparams_from_file(\"./configs/ljs_base.json\")\n",
    "\n",
    "net_g = SynthesizerInf(\n",
    "    len(symbols),\n",
    "    hps.data.filter_length // 2 + 1,\n",
    "    hps.train.segment_size // hps.data.hop_length,\n",
    "    **hps.model)\n",
    "\n",
    "_ = net_g.eval()\n",
    "_ = utils.load_checkpoint(\"./logs/ljs_base/G_119000.pth\", net_g, None)\n",
    "\n",
    "sm = torch.jit.script(net_g)"
   ]
  },
  {
   "cell_type": "code",
   "execution_count": null,
   "metadata": {
    "pycharm": {
     "name": "#%%\n"
    },
    "scrolled": true
   },
   "outputs": [],
   "source": [
    "sm.save(\"net_g.pt\")"
   ]
  }
 ],
 "metadata": {
  "kernelspec": {
   "display_name": "Python 3.9.13 64-bit (system)",
   "language": "python",
   "name": "python3"
  },
  "language_info": {
   "codemirror_mode": {
    "name": "ipython",
    "version": 3
   },
   "file_extension": ".py",
   "mimetype": "text/x-python",
   "name": "python",
   "nbconvert_exporter": "python",
   "pygments_lexer": "ipython3",
   "version": "3.9.13"
  },
  "vscode": {
   "interpreter": {
    "hash": "2b810b2684ac96b7888ac34212b05f6899aa5e1c0013ea9ca790c291fb3a5e17"
   }
  }
 },
 "nbformat": 4,
 "nbformat_minor": 4
}

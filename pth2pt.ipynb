{
 "cells": [
  {
   "cell_type": "code",
   "execution_count": null,
   "metadata": {
    "collapsed": false,
    "pycharm": {
     "name": "#%%\n"
    }
   },
   "outputs": [],
   "source": [
    "import torch\n",
    "\n",
    "from load_checkpoint import load_checkpoint\n",
    "from hparams import get_hparams_from_file\n",
    "from inference import SynthesizerInf\n",
    "from text.symbols import symbols\n",
    "from text.cleaner import japanese_cleaner\n",
    "from craft_vits import get_text\n",
    "from torch.utils.mobile_optimizer import optimize_for_mobile"
   ]
  },
  {
   "cell_type": "code",
   "execution_count": null,
   "metadata": {
    "collapsed": false,
    "pycharm": {
     "name": "#%%\n"
    }
   },
   "outputs": [],
   "source": [
    "hps = get_hparams_from_file(\"./configs/ljs_base.json\")\n",
    "\n",
    "net_g = SynthesizerInf(\n",
    "    len(symbols),\n",
    "    hps.data.filter_length // 2 + 1,\n",
    "    hps.train.segment_size // hps.data.hop_length,\n",
    "    **hps.model)\n",
    "_ = net_g.eval()\n",
    "\n",
    "_ = load_checkpoint(\"./logs/ljs_base/G_119000.pth\", net_g, None)\n",
    "net_g = net_g.cpu()"
   ]
  },
  {
   "cell_type": "code",
   "execution_count": null,
   "metadata": {
    "collapsed": false,
    "pycharm": {
     "name": "#%%\n"
    }
   },
   "outputs": [],
   "source": [
    "torch.set_grad_enabled(False)\n",
    "longtext = \"どうしてこうなるんだろう。初めて、好きな人が出来た。一生ものの友だちができた。嬉しいことが二つ重なって。その二つの嬉しさが、また、たくさんの嬉しさを連れてきてくれて。夢のように幸せな時間を手に入れたはずなのに…なのに、どうして、こうなっちゃうんだろう。　どうしてこうなるんだろう。初めて、好きな人が出来た。一生ものの友だちができた。嬉しいことが二つ重なって。その二つの嬉しさが、また、たくさんの嬉しさを連れてきてくれて。夢のように幸せな時間を手に入れたはずなのに…なのに、どうして、こうなっちゃうんだろう。 えっとね……。管理人の司令官でしょ？　あとは……　レッドバロン、夜の貴公子読むだけでも恥ずかしいな。　それにエデンの女王と、ハリーって人たちが常連。　えっとね……。管理人の司令官でしょ？　あとは……　レッドバロン、夜の貴公子読むだけでも恥ずかしいな。　それにエデンの女王と、ハリーって人たちが常連。　このエデンの女王？　もさ、なんか怪しいって　思っただけで、みゃーこ先輩みたいにアニメには　ないこと書いてるってわかんなかったし。　ちゅっ、ちゅっ、じゅるるっ、全部、んぁ、んっ、　口に、んんっ、全部、飲む、からぁっ、　お兄ちゃんの、ちょうだい、ちょうだぁい……っ。　んくっ、んっ、じゅるっ、んん、んっ、ちゅっ、ちゅるっ、　んん、ちゅるっ、じゅるるるっ、じゅるっ、　ん、ん、んっ、んんッ！\"\n",
    "\n",
    "stn_tst = get_text(japanese_cleaner(longtext), hps)\n",
    "x = stn_tst.unsqueeze(0)\n",
    "x_lengths = torch.LongTensor([stn_tst.size(0)])\n",
    "\n",
    "sm = torch.jit.trace(net_g, (x, x_lengths))\n",
    "sm = optimize_for_mobile(sm)"
   ]
  },
  {
   "cell_type": "code",
   "execution_count": null,
   "metadata": {
    "pycharm": {
     "name": "#%%\n"
    }
   },
   "outputs": [],
   "source": [
    "sm.save(\"net_g.pt\")"
   ]
  }
 ],
 "metadata": {
  "kernelspec": {
   "display_name": "Python 3.8.10 64-bit (system)",
   "language": "python",
   "name": "python3"
  },
  "language_info": {
   "codemirror_mode": {
    "name": "ipython",
    "version": 3
   },
   "file_extension": ".py",
   "mimetype": "text/x-python",
   "name": "python",
   "nbconvert_exporter": "python",
   "pygments_lexer": "ipython3",
   "version": "3.8.10"
  },
  "vscode": {
   "interpreter": {
    "hash": "781dbd0f7c1d4d754296d38bb44a2fe62ce2e43c8bf7f7c9bc081b57263152c0"
   }
  }
 },
 "nbformat": 4,
 "nbformat_minor": 4
}
